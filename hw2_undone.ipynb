{
 "cells": [
  {
   "cell_type": "markdown",
   "metadata": {},
   "source": [
    "### Вопросы:\n",
    "### Второе задание:\n",
    "#### 1) Что делать с днями для которых нет \"вчера\"\n",
    "Брать предыдущие дни\n",
    "#### 2) Что делать с днями для которых нет новостей \n",
    "#### 3) Как показать \"как tfidf влияет на качество классификации\"? Может взять по сравнению с bag-of-words или другой примитивной техникой?"
   ]
  },
  {
   "cell_type": "markdown",
   "metadata": {},
   "source": [
    "# Майнор \"Прикладные задачи анализа данных\"\n",
    "## Домашнее задание 2 [10 баллов] до 23:59 22.03.2018. Предсказание цены акции по экономическим новостям\n",
    "\n",
    "\n",
    "В этом домашнем задании вы попытаетесь предсказать рост цены акции компании Газпром по новостям о компании. Домашнее задание состоит из трех частей:\n",
    "1. Предварительная обработка текстов и эксплоративный анализ\n",
    "2. Baseline алгоритм\n",
    "3. Творческая часть\n",
    "\n",
    "Все три части можно считать независимыми – вы можете сделать одну или две из них, однако мы настоятельно советуем выполнить все три. Все инструкции по выполнению домашнего задания – ниже. \n",
    "\n",
    "\n",
    "\n",
    "Входные данные:\n",
    "* Новости о компании \"Газпром\", начиная с 2010 года\n",
    "* Стоимость акций компании \"Газпром\" на ММВБ, начиная с 2010 года\n",
    "    * цена открытия (Open)\n",
    "    * цена закрытия (ClosingPrice)\n",
    "    * максимальная цена за день (DailyHigh)\n",
    "    * минимальная цена за день (DailyLow) \n",
    "    * объем бумаг (VolumePcs)\n"
   ]
  },
  {
   "cell_type": "code",
   "execution_count": 5,
   "metadata": {},
   "outputs": [],
   "source": [
    "import pandas as pd\n",
    "texts = pd.read_csv('data/texts.csv')\n",
    "pr_all = pd.read_csv('data/gazprom_prices.csv', sep=';')"
   ]
  },
  {
   "cell_type": "code",
   "execution_count": 6,
   "metadata": {},
   "outputs": [
    {
     "data": {
      "text/html": [
       "<div>\n",
       "<style scoped>\n",
       "    .dataframe tbody tr th:only-of-type {\n",
       "        vertical-align: middle;\n",
       "    }\n",
       "\n",
       "    .dataframe tbody tr th {\n",
       "        vertical-align: top;\n",
       "    }\n",
       "\n",
       "    .dataframe thead th {\n",
       "        text-align: right;\n",
       "    }\n",
       "</style>\n",
       "<table border=\"1\" class=\"dataframe\">\n",
       "  <thead>\n",
       "    <tr style=\"text-align: right;\">\n",
       "      <th></th>\n",
       "      <th>date</th>\n",
       "      <th>text</th>\n",
       "    </tr>\n",
       "  </thead>\n",
       "  <tbody>\n",
       "    <tr>\n",
       "      <th>0</th>\n",
       "      <td>2010-01-02</td>\n",
       "      <td>\"Газпром\" не исключает в 2010 г. выпуска облиг...</td>\n",
       "    </tr>\n",
       "    <tr>\n",
       "      <th>1</th>\n",
       "      <td>2010-01-19</td>\n",
       "      <td>\"Газпром\" готов забирать весь объем азербайджа...</td>\n",
       "    </tr>\n",
       "    <tr>\n",
       "      <th>2</th>\n",
       "      <td>2010-01-28</td>\n",
       "      <td>Консорциум во главе с российским ОАО \"Газпром ...</td>\n",
       "    </tr>\n",
       "    <tr>\n",
       "      <th>3</th>\n",
       "      <td>2010-02-07</td>\n",
       "      <td>Газпромбанк открыл на Кипре дочернюю компанию ...</td>\n",
       "    </tr>\n",
       "    <tr>\n",
       "      <th>4</th>\n",
       "      <td>2010-02-09</td>\n",
       "      <td>\"Газпром\" вновь понизил прогноз экспорта в Евр...</td>\n",
       "    </tr>\n",
       "  </tbody>\n",
       "</table>\n",
       "</div>"
      ],
      "text/plain": [
       "        date                                               text\n",
       "0 2010-01-02  \"Газпром\" не исключает в 2010 г. выпуска облиг...\n",
       "1 2010-01-19  \"Газпром\" готов забирать весь объем азербайджа...\n",
       "2 2010-01-28  Консорциум во главе с российским ОАО \"Газпром ...\n",
       "3 2010-02-07  Газпромбанк открыл на Кипре дочернюю компанию ...\n",
       "4 2010-02-09  \"Газпром\" вновь понизил прогноз экспорта в Евр..."
      ]
     },
     "execution_count": 6,
     "metadata": {},
     "output_type": "execute_result"
    }
   ],
   "source": [
    "# Проведем чистку данных: приведем дату к соответствующему формату и отсортируем новости, удалим пустые\n",
    "texts['date'] = pd.to_datetime(texts['date'])\n",
    "texts = texts.sort_values('date', ascending=True).reset_index(drop=True)\n",
    "texts['text'] = texts['text'].apply(lambda x: x.strip())\n",
    "texts = texts[texts['text'] != '']\n",
    "texts.head()"
   ]
  },
  {
   "cell_type": "code",
   "execution_count": 7,
   "metadata": {},
   "outputs": [],
   "source": [
    "# Новости сплитятся по \\n. Сделаем список строк, каждая строка - одна новость\n",
    "texts['text'] = texts['text'].apply(lambda x: list(x.split('\\n')))"
   ]
  },
  {
   "cell_type": "code",
   "execution_count": 8,
   "metadata": {},
   "outputs": [
    {
     "data": {
      "text/html": [
       "<div>\n",
       "<style scoped>\n",
       "    .dataframe tbody tr th:only-of-type {\n",
       "        vertical-align: middle;\n",
       "    }\n",
       "\n",
       "    .dataframe tbody tr th {\n",
       "        vertical-align: top;\n",
       "    }\n",
       "\n",
       "    .dataframe thead th {\n",
       "        text-align: right;\n",
       "    }\n",
       "</style>\n",
       "<table border=\"1\" class=\"dataframe\">\n",
       "  <thead>\n",
       "    <tr style=\"text-align: right;\">\n",
       "      <th></th>\n",
       "      <th>Date</th>\n",
       "      <th>Open</th>\n",
       "      <th>ClosingPrice</th>\n",
       "      <th>DailyHigh</th>\n",
       "      <th>DailyLow</th>\n",
       "      <th>VolumePcs</th>\n",
       "    </tr>\n",
       "  </thead>\n",
       "  <tbody>\n",
       "    <tr>\n",
       "      <th>0</th>\n",
       "      <td>2010-01-02</td>\n",
       "      <td>184.74</td>\n",
       "      <td>189.85</td>\n",
       "      <td>190.40</td>\n",
       "      <td>183.50</td>\n",
       "      <td>76298175</td>\n",
       "    </tr>\n",
       "    <tr>\n",
       "      <th>1</th>\n",
       "      <td>2010-01-03</td>\n",
       "      <td>168.70</td>\n",
       "      <td>168.20</td>\n",
       "      <td>170.71</td>\n",
       "      <td>166.33</td>\n",
       "      <td>58570262</td>\n",
       "    </tr>\n",
       "    <tr>\n",
       "      <th>2</th>\n",
       "      <td>2010-01-04</td>\n",
       "      <td>172.49</td>\n",
       "      <td>175.00</td>\n",
       "      <td>176.14</td>\n",
       "      <td>172.33</td>\n",
       "      <td>94994135</td>\n",
       "    </tr>\n",
       "    <tr>\n",
       "      <th>3</th>\n",
       "      <td>2010-01-06</td>\n",
       "      <td>158.20</td>\n",
       "      <td>159.26</td>\n",
       "      <td>160.31</td>\n",
       "      <td>154.39</td>\n",
       "      <td>67031024</td>\n",
       "    </tr>\n",
       "    <tr>\n",
       "      <th>4</th>\n",
       "      <td>2010-01-07</td>\n",
       "      <td>147.00</td>\n",
       "      <td>143.20</td>\n",
       "      <td>147.77</td>\n",
       "      <td>143.04</td>\n",
       "      <td>50067990</td>\n",
       "    </tr>\n",
       "  </tbody>\n",
       "</table>\n",
       "</div>"
      ],
      "text/plain": [
       "        Date    Open  ClosingPrice  DailyHigh  DailyLow  VolumePcs\n",
       "0 2010-01-02  184.74        189.85     190.40    183.50   76298175\n",
       "1 2010-01-03  168.70        168.20     170.71    166.33   58570262\n",
       "2 2010-01-04  172.49        175.00     176.14    172.33   94994135\n",
       "3 2010-01-06  158.20        159.26     160.31    154.39   67031024\n",
       "4 2010-01-07  147.00        143.20     147.77    143.04   50067990"
      ]
     },
     "execution_count": 8,
     "metadata": {},
     "output_type": "execute_result"
    }
   ],
   "source": [
    "# Сделаем тоже самое для датафрейма с ценами\n",
    "pr_all['Date'] = pd.to_datetime(pr_all['Date'])\n",
    "pr_all = pr_all.sort_values('Date', ascending=True).reset_index(drop=True)\n",
    "pr_all[['Open', 'ClosingPrice', 'DailyHigh', 'DailyLow']] =\\\n",
    "pr_all[['Open', 'ClosingPrice', 'DailyHigh', 'DailyLow']].apply(lambda x: x.apply(lambda y: float(str(y).replace(',', '.'))))\n",
    "pr_all.head()"
   ]
  },
  {
   "cell_type": "code",
   "execution_count": 9,
   "metadata": {},
   "outputs": [
    {
     "data": {
      "text/html": [
       "<div>\n",
       "<style scoped>\n",
       "    .dataframe tbody tr th:only-of-type {\n",
       "        vertical-align: middle;\n",
       "    }\n",
       "\n",
       "    .dataframe tbody tr th {\n",
       "        vertical-align: top;\n",
       "    }\n",
       "\n",
       "    .dataframe thead th {\n",
       "        text-align: right;\n",
       "    }\n",
       "</style>\n",
       "<table border=\"1\" class=\"dataframe\">\n",
       "  <thead>\n",
       "    <tr style=\"text-align: right;\">\n",
       "      <th></th>\n",
       "      <th>date</th>\n",
       "      <th>text</th>\n",
       "      <th>Open</th>\n",
       "      <th>ClosingPrice</th>\n",
       "      <th>DailyHigh</th>\n",
       "      <th>DailyLow</th>\n",
       "      <th>VolumePcs</th>\n",
       "    </tr>\n",
       "  </thead>\n",
       "  <tbody>\n",
       "    <tr>\n",
       "      <th>0</th>\n",
       "      <td>2010-01-02</td>\n",
       "      <td>[\"Газпром\" не исключает в 2010 г. выпуска обли...</td>\n",
       "      <td>184.74</td>\n",
       "      <td>189.85</td>\n",
       "      <td>190.40</td>\n",
       "      <td>183.50</td>\n",
       "      <td>76298175</td>\n",
       "    </tr>\n",
       "    <tr>\n",
       "      <th>1</th>\n",
       "      <td>2010-01-19</td>\n",
       "      <td>[\"Газпром\" готов забирать весь объем азербайдж...</td>\n",
       "      <td>190.10</td>\n",
       "      <td>189.76</td>\n",
       "      <td>190.47</td>\n",
       "      <td>187.36</td>\n",
       "      <td>48626727</td>\n",
       "    </tr>\n",
       "    <tr>\n",
       "      <th>2</th>\n",
       "      <td>2010-01-28</td>\n",
       "      <td>[Консорциум во главе с российским ОАО \"Газпром...</td>\n",
       "      <td>183.75</td>\n",
       "      <td>182.30</td>\n",
       "      <td>185.98</td>\n",
       "      <td>181.67</td>\n",
       "      <td>62561241</td>\n",
       "    </tr>\n",
       "    <tr>\n",
       "      <th>3</th>\n",
       "      <td>2010-02-07</td>\n",
       "      <td>[Газпромбанк открыл на Кипре дочернюю компанию...</td>\n",
       "      <td>144.80</td>\n",
       "      <td>148.25</td>\n",
       "      <td>148.27</td>\n",
       "      <td>144.05</td>\n",
       "      <td>41766629</td>\n",
       "    </tr>\n",
       "    <tr>\n",
       "      <th>4</th>\n",
       "      <td>2010-02-09</td>\n",
       "      <td>[\"Газпром\" вновь понизил прогноз экспорта в Ев...</td>\n",
       "      <td>161.79</td>\n",
       "      <td>162.80</td>\n",
       "      <td>163.57</td>\n",
       "      <td>161.53</td>\n",
       "      <td>42721026</td>\n",
       "    </tr>\n",
       "  </tbody>\n",
       "</table>\n",
       "</div>"
      ],
      "text/plain": [
       "        date                                               text    Open  \\\n",
       "0 2010-01-02  [\"Газпром\" не исключает в 2010 г. выпуска обли...  184.74   \n",
       "1 2010-01-19  [\"Газпром\" готов забирать весь объем азербайдж...  190.10   \n",
       "2 2010-01-28  [Консорциум во главе с российским ОАО \"Газпром...  183.75   \n",
       "3 2010-02-07  [Газпромбанк открыл на Кипре дочернюю компанию...  144.80   \n",
       "4 2010-02-09  [\"Газпром\" вновь понизил прогноз экспорта в Ев...  161.79   \n",
       "\n",
       "   ClosingPrice  DailyHigh  DailyLow  VolumePcs  \n",
       "0        189.85     190.40    183.50   76298175  \n",
       "1        189.76     190.47    187.36   48626727  \n",
       "2        182.30     185.98    181.67   62561241  \n",
       "3        148.25     148.27    144.05   41766629  \n",
       "4        162.80     163.57    161.53   42721026  "
      ]
     },
     "execution_count": 9,
     "metadata": {},
     "output_type": "execute_result"
    }
   ],
   "source": [
    "# Сделаем общий датафрейм\n",
    "all_info = texts.merge(pr_all, left_on='date', right_on='Date', how='inner').drop('Date', axis=1)\n",
    "all_info.sort_values(by='date', inplace=True)\n",
    "all_info.head()"
   ]
  },
  {
   "cell_type": "code",
   "execution_count": 10,
   "metadata": {},
   "outputs": [
    {
     "name": "stdout",
     "output_type": "stream",
     "text": [
      "<class 'pandas.core.frame.DataFrame'>\n",
      "Int64Index: 1159 entries, 0 to 1158\n",
      "Data columns (total 7 columns):\n",
      "date            1159 non-null datetime64[ns]\n",
      "text            1159 non-null object\n",
      "Open            1145 non-null float64\n",
      "ClosingPrice    1159 non-null float64\n",
      "DailyHigh       1158 non-null float64\n",
      "DailyLow        1157 non-null float64\n",
      "VolumePcs       1159 non-null int64\n",
      "dtypes: datetime64[ns](1), float64(4), int64(1), object(1)\n",
      "memory usage: 72.4+ KB\n"
     ]
    }
   ],
   "source": [
    "all_info.info()"
   ]
  },
  {
   "cell_type": "markdown",
   "metadata": {},
   "source": [
    "## Часть 1. Вводная [3 балла]\n",
    "\n",
    "Проведите предобработку текстов: если считаете нужным, выполните токенизацию, приведение к нижнему регистру, лемматизацию и/или стемминг. Ответьте на следующие вопросы:\n",
    "* Есть ли корреляция между средней длинной текста за день и ценой закрытия?\n",
    "* Есть ли корреляция между количеством упоминаний Алексея Миллера  и ценой закрытия? Учтите разные варианты написания имени.\n",
    "* Упоминаний какого газопровода в статьях больше: \n",
    "    * \"северный поток\"\n",
    "    * \"турецкий поток\"?\n",
    "* Кого упоминают чаще:\n",
    "    * Алексея Миллера\n",
    "    * Владимира Путина?\n",
    "* О каких санкциях пишут в статьях?"
   ]
  },
  {
   "cell_type": "code",
   "execution_count": 11,
   "metadata": {
    "collapsed": true
   },
   "outputs": [],
   "source": [
    "# Функция для токенизации текстов\n",
    "from nltk.tokenize import word_tokenize\n",
    "from nltk.corpus import stopwords\n",
    "import string\n",
    "\n",
    "def tokenizer(text):\n",
    "    tokens = word_tokenize(text)\n",
    "    \n",
    "    # Сделаем список стоп-слов\n",
    "    stop_words = stopwords.words('russian')\n",
    "    stop_words.extend(['г.'])\n",
    "    \n",
    "    # Сделаем список знаков припинания\n",
    "    punctuation = list(string.punctuation)\n",
    "    punctuation.extend(['«', '»', '\"\"', '—', '``', \"''\", '–', '“', '”'])\n",
    "    \n",
    "    # Удалим из токенов стоп-слова и знаки припинания\n",
    "    tokens = [i for i in tokens if ((i not in punctuation) and (i not in stop_words))]\n",
    "\n",
    "    return tokens"
   ]
  },
  {
   "cell_type": "code",
   "execution_count": 12,
   "metadata": {
    "collapsed": true
   },
   "outputs": [],
   "source": [
    "# Функция для лемматизации слов\n",
    "from pymorphy2 import MorphAnalyzer\n",
    "\n",
    "def lemmatizator(words_list, morph_analyzer):\n",
    "    return [morph_analyzer.parse(word)[0].normal_form for word in words_list] "
   ]
  },
  {
   "cell_type": "code",
   "execution_count": 13,
   "metadata": {},
   "outputs": [
    {
     "name": "stdout",
     "output_type": "stream",
     "text": [
      "CPU times: user 2.12 s, sys: 40.1 ms, total: 2.16 s\n",
      "Wall time: 2.18 s\n"
     ]
    }
   ],
   "source": [
    "%%time\n",
    "# Проведем токенизацию\n",
    "all_info['text'] = [[tokenizer(sen) for sen in day] for day in all_info['text']]"
   ]
  },
  {
   "cell_type": "code",
   "execution_count": 14,
   "metadata": {},
   "outputs": [
    {
     "name": "stdout",
     "output_type": "stream",
     "text": [
      "CPU times: user 19.1 s, sys: 74.6 ms, total: 19.2 s\n",
      "Wall time: 19.3 s\n"
     ]
    }
   ],
   "source": [
    "%%time \n",
    "# Проведем лемматизацию\n",
    "morph = MorphAnalyzer()\n",
    "all_info['text'] = [[lemmatizator(sen, morph_analyzer=morph) for sen in day] for day in all_info['text']]"
   ]
  },
  {
   "cell_type": "code",
   "execution_count": 17,
   "metadata": {},
   "outputs": [
    {
     "data": {
      "image/png": "[encoded data removed]",
      "text/plain": [
       "<Figure size 432x288 with 1 Axes>"
      ]
     },
     "metadata": {},
     "output_type": "display_data"
    }
   ],
   "source": [
    "# Корреляции между средней длиной новостей и ценой закрытия нет\n",
    "import matplotlib.pyplot as plt\n",
    "import numpy as np\n",
    "% matplotlib inline\n",
    "\n",
    "len_news = []\n",
    "for lst_news in all_info['text']:\n",
    "    len_mean = []\n",
    "    for news in lst_news:\n",
    "        len_mean.append(len(news))\n",
    "    len_news.append(np.mean(len_mean))\n",
    "    \n",
    "plt.scatter(y=all_info['ClosingPrice'], x=len_news)\n",
    "plt.xlabel('Средняя длина новостей')\n",
    "plt.ylabel('Цена закрытия');"
   ]
  },
  {
   "cell_type": "code",
   "execution_count": 21,
   "metadata": {},
   "outputs": [
    {
     "data": {
      "text/plain": [
       "Text(0,0.5,'Количество упоминаний Алексея Миллера')"
      ]
     },
     "execution_count": 21,
     "metadata": {},
     "output_type": "execute_result"
    },
    {
     "data": {
      "image/png": "[encoded data removed]",
      "text/plain": [
       "<Figure size 432x288 with 1 Axes>"
      ]
     },
     "metadata": {},
     "output_type": "display_data"
    }
   ],
   "source": [
    "# Можно заметить, что корреляции между упоминаниями Алексея Миллера и ценой закрытия нет\n",
    "miller_count = []\n",
    "alexey_count = []\n",
    "for lst_news in all_info['text']:\n",
    "    miller_one_text = 0\n",
    "    alexey_one_text = 0\n",
    "    for news in lst_news:\n",
    "        miller_one_text += news.count('миллер') \n",
    "        alexey_one_text += news.count('алексей')\n",
    "    miller_count.append(miller_one_text)\n",
    "    alexey_count.append(alexey_one_text)\n",
    "\n",
    "plt.scatter(all_info['ClosingPrice'], alexey_count, c='blue')\n",
    "plt.scatter(all_info['ClosingPrice'], miller_count, c='red')\n",
    "\n",
    "plt.xlabel('Цена закрытия')\n",
    "plt.ylabel('Количество упоминаний Алексея Миллера')"
   ]
  },
  {
   "cell_type": "code",
   "execution_count": 26,
   "metadata": {},
   "outputs": [
    {
     "name": "stdout",
     "output_type": "stream",
     "text": [
      "[('Турецкий поток', 34), ('Северный поток', 12)]\n"
     ]
    }
   ],
   "source": [
    "# Видим, что турецкий поток упоминается больше\n",
    "import nltk\n",
    "\n",
    "sever_turkish = {'Северный поток': 0, 'Турецкий поток': 0}\n",
    "for lst_news in all_info['text']:\n",
    "    for news in lst_news:\n",
    "        bigrams = list(nltk.bigrams(news))\n",
    "        if ('северный', 'поток') in bigrams:\n",
    "            sever_turkish['Северный поток'] += 1\n",
    "        if ('турецкий', 'поток') in bigrams:\n",
    "            sever_turkish['Турецкий поток'] += 1\n",
    "print(sorted(sever_turkish.items(), reverse=True, key=lambda x: x[1]))"
   ]
  },
  {
   "cell_type": "code",
   "execution_count": 27,
   "metadata": {},
   "outputs": [
    {
     "name": "stdout",
     "output_type": "stream",
     "text": [
      "[('Миллер', 147), ('Путин', 71)]\n"
     ]
    }
   ],
   "source": [
    "# Видим, что Миллер упоминается чаще\n",
    "miller_putin = {'Миллер': 0, 'Путин': 0}\n",
    "for lst_news in all_info['text']:\n",
    "    for news in lst_news:\n",
    "        miller_putin['Миллер'] += news.count('миллер') \n",
    "        miller_putin['Путин'] += news.count('путин')    \n",
    "print(sorted(miller_putin.items(), reverse=True, key=lambda x: x[1]))"
   ]
  },
  {
   "cell_type": "code",
   "execution_count": 28,
   "metadata": {},
   "outputs": [
    {
     "name": "stdout",
     "output_type": "stream",
     "text": [
      "Характеристика упоминающихся в новостях санкций:\n",
      "\n",
      "западный очередной готовый секторальный финансовый персональный экономический технологический штрафной репутационный который несогласованный американский антироссийский международный\n"
     ]
    }
   ],
   "source": [
    "sanctions = set()\n",
    "for lst_news in all_info['text']:\n",
    "    for news in lst_news:\n",
    "        bigrams = list(nltk.bigrams(news))\n",
    "        for bg in bigrams:\n",
    "            if 'санкция' in bg[0]:\n",
    "                p = morph.parse(bg[1])[0]        \n",
    "                if (p.tag.POS) == 'ADJF' or (p.tag.POS) == 'ADJS': #(p.tag.POS) == 'NOUN'\n",
    "                    sanctions.add(bg[1])\n",
    "            if 'санкция' in bg[1]:\n",
    "                p = morph.parse(bg[0])[0]\n",
    "                if (p.tag.POS) == 'ADJF' or (p.tag.POS) == 'ADJS':# or (p.tag.POS) == 'NOUN':\n",
    "                    sanctions.add(bg[0])\n",
    "print ('Характеристика упоминающихся в новостях санкций:\\n')\n",
    "print(*sanctions)"
   ]
  },
  {
   "cell_type": "markdown",
   "metadata": {},
   "source": [
    "## Часть 2. Классификационная [3 балла]\n",
    "Вам предстоит решить следующую задачу: по текстам новостей за день определить, вырастет или понизится цена закрытия.\n",
    "Для этого:\n",
    "* бинаризуйте признак \"цена закрытия\":  новый признак ClosingPrice_bin равен 1, если по сравнению со вчера цена не упала, и 0 – в обратном случаея;\n",
    "* составьте бучающее и тестовое множество: данные до начала 2016 года используются для обучения, данные с 2016 года и позже – для тестирования.\n",
    "\n",
    "Таким образом, в каждлый момент времени мы знаем: \n",
    "* ClosingPrice_bin – бинарый целевой признак\n",
    "* слова из статей, опубликованных в этот день – объясняющие признаки\n",
    "\n",
    "В этой части задания вам нужно сделать baseline алгоритм и попытаться его улучшить в следующей части. \n",
    "\n",
    "Используйте любой известный вам алгоритм классификации текстов для того, Используйте $tf-idf$ преобразование, сингулярное разложение, нормировку признакого пространства и любые другие техники обработки данных, которые вы считаете нужным. Используйте accuracy и F-measure для оценки качества классификации. Покажите, как  $tf-idf$ преобразование или сингулярное разложение или любая другая использованная вами техника влияет на качество классификации.\n",
    "Если у выбранного вами алгоритма есть гиперпараметры (например, $\\alpha$ в преобразовании Лапласа для метода наивного Байеса), покажите, как изменение гиперпараметра влияет на качество классификации."
   ]
  },
  {
   "cell_type": "code",
   "execution_count": 56,
   "metadata": {},
   "outputs": [
    {
     "data": {
      "text/html": [
       "<div>\n",
       "<style scoped>\n",
       "    .dataframe tbody tr th:only-of-type {\n",
       "        vertical-align: middle;\n",
       "    }\n",
       "\n",
       "    .dataframe tbody tr th {\n",
       "        vertical-align: top;\n",
       "    }\n",
       "\n",
       "    .dataframe thead th {\n",
       "        text-align: right;\n",
       "    }\n",
       "</style>\n",
       "<table border=\"1\" class=\"dataframe\">\n",
       "  <thead>\n",
       "    <tr style=\"text-align: right;\">\n",
       "      <th></th>\n",
       "      <th>Date</th>\n",
       "      <th>Open</th>\n",
       "      <th>ClosingPrice</th>\n",
       "      <th>DailyHigh</th>\n",
       "      <th>DailyLow</th>\n",
       "      <th>VolumePcs</th>\n",
       "      <th>ClosingPrice_bin</th>\n",
       "    </tr>\n",
       "  </thead>\n",
       "  <tbody>\n",
       "    <tr>\n",
       "      <th>0</th>\n",
       "      <td>2010-01-02</td>\n",
       "      <td>184.74</td>\n",
       "      <td>189.85</td>\n",
       "      <td>190.40</td>\n",
       "      <td>183.50</td>\n",
       "      <td>76298175</td>\n",
       "      <td>NaN</td>\n",
       "    </tr>\n",
       "    <tr>\n",
       "      <th>1</th>\n",
       "      <td>2010-01-03</td>\n",
       "      <td>168.70</td>\n",
       "      <td>168.20</td>\n",
       "      <td>170.71</td>\n",
       "      <td>166.33</td>\n",
       "      <td>58570262</td>\n",
       "      <td>0.0</td>\n",
       "    </tr>\n",
       "    <tr>\n",
       "      <th>2</th>\n",
       "      <td>2010-01-04</td>\n",
       "      <td>172.49</td>\n",
       "      <td>175.00</td>\n",
       "      <td>176.14</td>\n",
       "      <td>172.33</td>\n",
       "      <td>94994135</td>\n",
       "      <td>1.0</td>\n",
       "    </tr>\n",
       "    <tr>\n",
       "      <th>3</th>\n",
       "      <td>2010-01-06</td>\n",
       "      <td>158.20</td>\n",
       "      <td>159.26</td>\n",
       "      <td>160.31</td>\n",
       "      <td>154.39</td>\n",
       "      <td>67031024</td>\n",
       "      <td>0.0</td>\n",
       "    </tr>\n",
       "    <tr>\n",
       "      <th>4</th>\n",
       "      <td>2010-01-07</td>\n",
       "      <td>147.00</td>\n",
       "      <td>143.20</td>\n",
       "      <td>147.77</td>\n",
       "      <td>143.04</td>\n",
       "      <td>50067990</td>\n",
       "      <td>0.0</td>\n",
       "    </tr>\n",
       "  </tbody>\n",
       "</table>\n",
       "</div>"
      ],
      "text/plain": [
       "        Date    Open  ClosingPrice  DailyHigh  DailyLow  VolumePcs  \\\n",
       "0 2010-01-02  184.74        189.85     190.40    183.50   76298175   \n",
       "1 2010-01-03  168.70        168.20     170.71    166.33   58570262   \n",
       "2 2010-01-04  172.49        175.00     176.14    172.33   94994135   \n",
       "3 2010-01-06  158.20        159.26     160.31    154.39   67031024   \n",
       "4 2010-01-07  147.00        143.20     147.77    143.04   50067990   \n",
       "\n",
       "   ClosingPrice_bin  \n",
       "0               NaN  \n",
       "1               0.0  \n",
       "2               1.0  \n",
       "3               0.0  \n",
       "4               0.0  "
      ]
     },
     "execution_count": 56,
     "metadata": {},
     "output_type": "execute_result"
    }
   ],
   "source": [
    "pr_all.head()"
   ]
  },
  {
   "cell_type": "code",
   "execution_count": 53,
   "metadata": {
    "collapsed": true
   },
   "outputs": [],
   "source": [
    "import numpy as np\n",
    "# Добавим бинарный признак ClosingPrice_bin\n",
    "pr_all['ClosingPrice_bin'] = pd.Series(data=[np.NaN]+[(1 if pr_all['ClosingPrice'][i]>=pr_all['ClosingPrice'][i-1] else 0)\\\n",
    "                                             for i in np.arange(1, pr_all.shape[0])])"
   ]
  },
  {
   "cell_type": "code",
   "execution_count": 54,
   "metadata": {},
   "outputs": [
    {
     "data": {
      "text/html": [
       "<div>\n",
       "<style scoped>\n",
       "    .dataframe tbody tr th:only-of-type {\n",
       "        vertical-align: middle;\n",
       "    }\n",
       "\n",
       "    .dataframe tbody tr th {\n",
       "        vertical-align: top;\n",
       "    }\n",
       "\n",
       "    .dataframe thead th {\n",
       "        text-align: right;\n",
       "    }\n",
       "</style>\n",
       "<table border=\"1\" class=\"dataframe\">\n",
       "  <thead>\n",
       "    <tr style=\"text-align: right;\">\n",
       "      <th></th>\n",
       "      <th>Date</th>\n",
       "      <th>Open</th>\n",
       "      <th>ClosingPrice</th>\n",
       "      <th>DailyHigh</th>\n",
       "      <th>DailyLow</th>\n",
       "      <th>VolumePcs</th>\n",
       "      <th>ClosingPrice_bin</th>\n",
       "    </tr>\n",
       "  </thead>\n",
       "  <tbody>\n",
       "    <tr>\n",
       "      <th>0</th>\n",
       "      <td>2010-01-02</td>\n",
       "      <td>184.74</td>\n",
       "      <td>189.85</td>\n",
       "      <td>190.40</td>\n",
       "      <td>183.50</td>\n",
       "      <td>76298175</td>\n",
       "      <td>NaN</td>\n",
       "    </tr>\n",
       "    <tr>\n",
       "      <th>1</th>\n",
       "      <td>2010-01-03</td>\n",
       "      <td>168.70</td>\n",
       "      <td>168.20</td>\n",
       "      <td>170.71</td>\n",
       "      <td>166.33</td>\n",
       "      <td>58570262</td>\n",
       "      <td>0.0</td>\n",
       "    </tr>\n",
       "    <tr>\n",
       "      <th>2</th>\n",
       "      <td>2010-01-04</td>\n",
       "      <td>172.49</td>\n",
       "      <td>175.00</td>\n",
       "      <td>176.14</td>\n",
       "      <td>172.33</td>\n",
       "      <td>94994135</td>\n",
       "      <td>1.0</td>\n",
       "    </tr>\n",
       "    <tr>\n",
       "      <th>3</th>\n",
       "      <td>2010-01-06</td>\n",
       "      <td>158.20</td>\n",
       "      <td>159.26</td>\n",
       "      <td>160.31</td>\n",
       "      <td>154.39</td>\n",
       "      <td>67031024</td>\n",
       "      <td>0.0</td>\n",
       "    </tr>\n",
       "    <tr>\n",
       "      <th>4</th>\n",
       "      <td>2010-01-07</td>\n",
       "      <td>147.00</td>\n",
       "      <td>143.20</td>\n",
       "      <td>147.77</td>\n",
       "      <td>143.04</td>\n",
       "      <td>50067990</td>\n",
       "      <td>0.0</td>\n",
       "    </tr>\n",
       "  </tbody>\n",
       "</table>\n",
       "</div>"
      ],
      "text/plain": [
       "        Date    Open  ClosingPrice  DailyHigh  DailyLow  VolumePcs  \\\n",
       "0 2010-01-02  184.74        189.85     190.40    183.50   76298175   \n",
       "1 2010-01-03  168.70        168.20     170.71    166.33   58570262   \n",
       "2 2010-01-04  172.49        175.00     176.14    172.33   94994135   \n",
       "3 2010-01-06  158.20        159.26     160.31    154.39   67031024   \n",
       "4 2010-01-07  147.00        143.20     147.77    143.04   50067990   \n",
       "\n",
       "   ClosingPrice_bin  \n",
       "0               NaN  \n",
       "1               0.0  \n",
       "2               1.0  \n",
       "3               0.0  \n",
       "4               0.0  "
      ]
     },
     "execution_count": 54,
     "metadata": {},
     "output_type": "execute_result"
    }
   ],
   "source": [
    "pr_all.head()"
   ]
  },
  {
   "cell_type": "markdown",
   "metadata": {},
   "source": [
    "## Часть 3. Творческая [4 балла]\n",
    "Придумайте и попытайтесь сделать еще что-нибудь, чтобы улучшить качество классификации. \n",
    "Направления развития:\n",
    "* Морфологический признаки: \n",
    "    * использовать в качестве признаков только существительные или только именованные сущности;\n",
    "* Модели скрытых тем:\n",
    "    * использовать в качестве признаков скрытые темы;\n",
    "    * использовать в качестве признаков динамические скрытые темы \n",
    "    пример тут: (https://github.com/RaRe-Technologies/gensim/blob/develop/docs/notebooks/dtm_example.ipynb)\n",
    "* Синтаксические признаки:\n",
    "    * использовать SOV-тройки в качестве признаков\n",
    "    * кластеризовать SOV-тройки по усредненным эмбеддингам  (обученные word2vec модели можно скачать отсюда: (http://rusvectores.org/ru/models/ или https://github.com/facebookresearch/fastText/blob/master/pretrained-vectors.md) и использовать только центроиды кластеров в качестве признаков\n",
    "* что-нибудь еще     "
   ]
  },
  {
   "cell_type": "markdown",
   "metadata": {},
   "source": [
    "## Сдача домашнего задания\n",
    "\n",
    "Дедлайн сдачи домашнего задания:  23:59 22.03.2018. Каждый день просрочки дедлайна штрафуется -1 баллом.\n",
    "\n",
    "Результаты домашнего задания должны быть оформлены в виде отчета в jupyter notebook.\n",
    "Нормальный отчёт должен включать в себя:\n",
    "* Краткую постановку задачи и формулировку задания\n",
    "* Описание минимума необходимой теории и/или описание используемых инструментов \n",
    "* Подробный пошаговый рассказ о проделанной работе\n",
    "* **Аккуратно** оформленные результаты\n",
    "* Подробные и внятные ответы на все заданные вопросы \n",
    "* Внятные выводы – не стоит относится к домашнему заданию как к последовательности сугубо технических шагов, а стоит относится скорее как к небольшому практическому исследованию, у которого есть своя цель и свое назначение.\n",
    "\n",
    "Задание выполняется в группе до трех человек. Не забудьте перечислить фамилии всех, кто работал над домашнем задании, в jupyter notebook.  \n",
    "\n",
    "В случае использования какого-либо строннего источника информации обязательно дайте на него ссылку (поскольку другие тоже могут на него наткнуться). Плагиат наказывается нулём баллов за задание и предвзятым отношением в будущем.\n",
    "\n",
    "\n",
    "При возникновении проблем с выполнением задания обращайтесь с вопросами к преподавателю по семинарским занятиям в вашей группе или у учебным ассистентам.\n",
    "\n",
    "Учебный ассистент по ДЗ 2: Таисия Глушкова (email: glushkovato@gmail.com, telegram: @glushkovato).\n",
    "\n",
    "\n",
    "Небрежное оформление отчета существенно отразится на итоговой оценке. Весь код из отчёта должен быть воспроизводимым, если для этого нужны какие-то дополнительные действия, установленные модули и т.п. — всё это должно быть прописано в отчете в явном виде.\n",
    "\n",
    "Сдача отчетов осуществляется через систему AnyTask.\n",
    "\n"
   ]
  }
 ],
 "metadata": {
  "kernelspec": {
   "display_name": "Python 3",
   "language": "python",
   "name": "python3"
  },
  "language_info": {
   "codemirror_mode": {
    "name": "ipython",
    "version": 3
   },
   "file_extension": ".py",
   "mimetype": "text/x-python",
   "name": "python",
   "nbconvert_exporter": "python",
   "pygments_lexer": "ipython3",
   "version": "3.6.3"
  }
 },
 "nbformat": 4,
 "nbformat_minor": 2
}
