{
 "cells": [
  {
   "cell_type": "markdown",
   "metadata": {},
   "source": [
    "Домашнее задание.<br>\n",
    "ИАД-2<br>\n",
    "Жингалов Кирилл <br>\n",
    "Литвинова Наталья"
   ]
  },
  {
   "cell_type": "markdown",
   "metadata": {},
   "source": [
    "# Майнор \"Прикладные задачи анализа данных\"\n",
    "## Домашнее задание 2 [10 баллов] до 23:59 22.03.2018. Предсказание цены акции по экономическим новостям\n",
    "\n",
    "\n",
    "В этом домашнем задании вы попытаетесь предсказать рост цены акции компании Газпром по новостям о компании. Домашнее задание состоит из трех частей:\n",
    "1. Предварительная обработка текстов и эксплоративный анализ\n",
    "2. Baseline алгоритм\n",
    "3. Творческая часть\n",
    "\n",
    "Все три части можно считать независимыми – вы можете сделать одну или две из них, однако мы настоятельно советуем выполнить все три. Все инструкции по выполнению домашнего задания – ниже. \n",
    "\n",
    "\n",
    "\n",
    "Входные данные:\n",
    "* Новости о компании \"Газпром\", начиная с 2010 года\n",
    "* Стоимость акций компании \"Газпром\" на ММВБ, начиная с 2010 года\n",
    "    * цена открытия (Open)\n",
    "    * цена закрытия (ClosingPrice)\n",
    "    * максимальная цена за день (DailyHigh)\n",
    "    * минимальная цена за день (DailyLow) \n",
    "    * объем бумаг (VolumePcs)\n"
   ]
  },
  {
   "cell_type": "code",
   "execution_count": 26,
   "metadata": {},
   "outputs": [],
   "source": [
    "import pandas as pd\n",
    "import numpy as np\n",
    "    \n",
    "from nltk.tokenize import word_tokenize\n",
    "from nltk.corpus import stopwords\n",
    "import string    \n",
    "from pymorphy2 import MorphAnalyzer\n",
    "import nltk\n",
    "   \n",
    "import matplotlib.pyplot as plt\n",
    "import numpy as np\n",
    "% matplotlib inline\n",
    "\n",
    "from sklearn.feature_extraction.text import CountVectorizer, TfidfVectorizer\n",
    "from sklearn.metrics import accuracy_score, f1_score\n",
    "from sklearn.linear_model import LogisticRegression\n",
    "from sklearn.pipeline import Pipeline\n",
    "from sklearn.model_selection import GridSearchCV\n",
    "from sklearn.metrics import make_scorer\n",
    "\n",
    "from functools import wraps\n",
    "import time"
   ]
  },
  {
   "cell_type": "code",
   "execution_count": 2,
   "metadata": {},
   "outputs": [],
   "source": [
    "def timeit(method):\n",
    "    def timed(*args, **kw):\n",
    "        ts = time.time()\n",
    "        result = method(*args, **kw)\n",
    "        te = time.time()\n",
    "        print('Function', method.__name__, 'time:', round((te -ts)*1000,1), 'ms')\n",
    "        return result\n",
    "    return timed"
   ]
  },
  {
   "cell_type": "code",
   "execution_count": 3,
   "metadata": {},
   "outputs": [],
   "source": [
    "@timeit\n",
    "def load_data() -> (pd.DataFrame, pd.DataFrame):\n",
    "    texts = pd.read_csv('data/texts.csv')\n",
    "    prices = pd.read_csv('data/gazprom_prices.csv', sep=';')\n",
    "    \n",
    "    return texts, prices"
   ]
  },
  {
   "cell_type": "code",
   "execution_count": 4,
   "metadata": {},
   "outputs": [],
   "source": [
    "# Почистим данные: приведем дату к правильному формату, отсортируем по дате разобьем строки и т.д.\n",
    "@timeit\n",
    "def clean_data(texts: pd.DataFrame, prices: pd.DataFrame) -> (pd.DataFrame, pd.DataFrame):\n",
    "    texts['date'] = pd.to_datetime(texts['date'])\n",
    "    texts = texts.sort_values('date', ascending=True).reset_index(drop=True)\n",
    "    texts['text'] = texts['text'].apply(lambda x: x.strip())\n",
    "    texts = texts[texts['text'] != '']\n",
    "    \n",
    "    texts['text'] = texts['text'].apply(lambda x: list(x.split('\\n')))\n",
    "    \n",
    "    prices['Date'] = pd.to_datetime(prices['Date'])\n",
    "    prices = prices.sort_values('Date', ascending=True).reset_index(drop=True)\n",
    "    prices[['Open', 'ClosingPrice', 'DailyHigh', 'DailyLow']] =\\\n",
    "    prices[['Open', 'ClosingPrice', 'DailyHigh', 'DailyLow']].apply(lambda x: x.apply(lambda y: float(str(y).replace(',', '.'))))\n",
    "    \n",
    "    return texts, prices"
   ]
  },
  {
   "cell_type": "code",
   "execution_count": 5,
   "metadata": {},
   "outputs": [],
   "source": [
    "# Соединим датафреймы по датам которые есть в обоих\n",
    "@timeit\n",
    "def merge_dataframes(texts: pd.DataFrame, prices: pd.DataFrame) -> pd.DataFrame:\n",
    "    all_info = texts.merge(prices, left_on='date', right_on='Date', how='inner').drop('Date', axis=1)\n",
    "    all_info.sort_values(by='date', inplace=True)\n",
    "    \n",
    "    return all_info"
   ]
  },
  {
   "cell_type": "code",
   "execution_count": 6,
   "metadata": {},
   "outputs": [
    {
     "name": "stdout",
     "output_type": "stream",
     "text": [
      "Function load_data time: 27.5 ms\n",
      "Function clean_data time: 494.2 ms\n",
      "Function merge_dataframes time: 6.4 ms\n"
     ]
    }
   ],
   "source": [
    "all_info = merge_dataframes(*clean_data(*load_data()))"
   ]
  },
  {
   "cell_type": "code",
   "execution_count": 7,
   "metadata": {},
   "outputs": [
    {
     "name": "stdout",
     "output_type": "stream",
     "text": [
      "<class 'pandas.core.frame.DataFrame'>\n",
      "Int64Index: 1159 entries, 0 to 1158\n",
      "Data columns (total 7 columns):\n",
      "date            1159 non-null datetime64[ns]\n",
      "text            1159 non-null object\n",
      "Open            1145 non-null float64\n",
      "ClosingPrice    1159 non-null float64\n",
      "DailyHigh       1158 non-null float64\n",
      "DailyLow        1157 non-null float64\n",
      "VolumePcs       1159 non-null int64\n",
      "dtypes: datetime64[ns](1), float64(4), int64(1), object(1)\n",
      "memory usage: 72.4+ KB\n"
     ]
    }
   ],
   "source": [
    "all_info.info()"
   ]
  },
  {
   "cell_type": "markdown",
   "metadata": {},
   "source": [
    "## Часть 1. Вводная [3 балла]\n",
    "\n",
    "Проведите предобработку текстов: если считаете нужным, выполните токенизацию, приведение к нижнему регистру, лемматизацию и/или стемминг. Ответьте на следующие вопросы:\n",
    "* Есть ли корреляция между средней длинной текста за день и ценой закрытия?\n",
    "* Есть ли корреляция между количеством упоминаний Алексея Миллера  и ценой закрытия? Учтите разные варианты написания имени.\n",
    "* Упоминаний какого газопровода в статьях больше: \n",
    "    * \"северный поток\"\n",
    "    * \"турецкий поток\"?\n",
    "* Кого упоминают чаще:\n",
    "    * Алексея Миллера\n",
    "    * Владимира Путина?\n",
    "* О каких санкциях пишут в статьях?"
   ]
  },
  {
   "cell_type": "code",
   "execution_count": 8,
   "metadata": {
    "collapsed": true
   },
   "outputs": [],
   "source": [
    "# Функция для токенизации строк\n",
    "def tokenizer(text):\n",
    "    tokens = word_tokenize(text)\n",
    "    \n",
    "    # Сделаем список стоп-слов\n",
    "    stop_words = stopwords.words('russian')\n",
    "    stop_words.extend(['г.'])\n",
    "    \n",
    "    # Сделаем список знаков припинания\n",
    "    punctuation = list(string.punctuation)\n",
    "    punctuation.extend(['«', '»', '\"\"', '—', '``', \"''\", '–', '“', '”'])\n",
    "    \n",
    "    \n",
    "    # Удалим из токенов стоп-слова и знаки припинания\n",
    "    tokens = [i for i in tokens if ((i not in punctuation) and (i not in stop_words))]\n",
    "\n",
    "    return tokens\n",
    "\n",
    "# Функция для лемматизации слов\n",
    "def lemmatizator(words_list, morph_analyzer):\n",
    "    return [morph_analyzer.parse(word)[0].normal_form for word in words_list] \n",
    "\n",
    "# Токенизация строк в датафрейме\n",
    "@timeit\n",
    "def tokenize_in_df(info: pd.DataFrame) -> pd.DataFrame:\n",
    "    info['text'] = [[tokenizer(sen) for sen in day] for day in info['text']]\n",
    "    return info\n",
    "\n",
    "# Проведем лемматизацию\n",
    "@timeit\n",
    "def lemmatize_in_df(info: pd.DataFrame) -> pd.DataFrame:\n",
    "    morph = MorphAnalyzer()\n",
    "    info['text'] = [[lemmatizator(sen, morph_analyzer=morph) for sen in day] for day in info['text']]\n",
    "    return info"
   ]
  },
  {
   "cell_type": "code",
   "execution_count": 9,
   "metadata": {},
   "outputs": [
    {
     "name": "stdout",
     "output_type": "stream",
     "text": [
      "Function load_data time: 29.5 ms\n",
      "Function clean_data time: 495.6 ms\n",
      "Function merge_dataframes time: 3.8 ms\n",
      "Function tokenize_in_df time: 1868.5 ms\n",
      "Function lemmatize_in_df time: 18647.4 ms\n"
     ]
    },
    {
     "data": {
      "text/html": [
       "<div>\n",
       "<style scoped>\n",
       "    .dataframe tbody tr th:only-of-type {\n",
       "        vertical-align: middle;\n",
       "    }\n",
       "\n",
       "    .dataframe tbody tr th {\n",
       "        vertical-align: top;\n",
       "    }\n",
       "\n",
       "    .dataframe thead th {\n",
       "        text-align: right;\n",
       "    }\n",
       "</style>\n",
       "<table border=\"1\" class=\"dataframe\">\n",
       "  <thead>\n",
       "    <tr style=\"text-align: right;\">\n",
       "      <th></th>\n",
       "      <th>date</th>\n",
       "      <th>text</th>\n",
       "      <th>Open</th>\n",
       "      <th>ClosingPrice</th>\n",
       "      <th>DailyHigh</th>\n",
       "      <th>DailyLow</th>\n",
       "      <th>VolumePcs</th>\n",
       "    </tr>\n",
       "  </thead>\n",
       "  <tbody>\n",
       "    <tr>\n",
       "      <th>0</th>\n",
       "      <td>2010-01-02</td>\n",
       "      <td>[[газпром, исключать, 2010, выпуск, облигация,...</td>\n",
       "      <td>184.74</td>\n",
       "      <td>189.85</td>\n",
       "      <td>190.40</td>\n",
       "      <td>183.50</td>\n",
       "      <td>76298175</td>\n",
       "    </tr>\n",
       "    <tr>\n",
       "      <th>1</th>\n",
       "      <td>2010-01-19</td>\n",
       "      <td>[[газпром, готовый, забирать, весь, объесть, а...</td>\n",
       "      <td>190.10</td>\n",
       "      <td>189.76</td>\n",
       "      <td>190.47</td>\n",
       "      <td>187.36</td>\n",
       "      <td>48626727</td>\n",
       "    </tr>\n",
       "    <tr>\n",
       "      <th>2</th>\n",
       "      <td>2010-01-28</td>\n",
       "      <td>[[консорциум, глава, российский, оао, газпром,...</td>\n",
       "      <td>183.75</td>\n",
       "      <td>182.30</td>\n",
       "      <td>185.98</td>\n",
       "      <td>181.67</td>\n",
       "      <td>62561241</td>\n",
       "    </tr>\n",
       "    <tr>\n",
       "      <th>3</th>\n",
       "      <td>2010-02-07</td>\n",
       "      <td>[[газпромбанк, открыть, кипр, дочерний, компан...</td>\n",
       "      <td>144.80</td>\n",
       "      <td>148.25</td>\n",
       "      <td>148.27</td>\n",
       "      <td>144.05</td>\n",
       "      <td>41766629</td>\n",
       "    </tr>\n",
       "    <tr>\n",
       "      <th>4</th>\n",
       "      <td>2010-02-09</td>\n",
       "      <td>[[газпром, вновь, понизить, прогноз, экспорт, ...</td>\n",
       "      <td>161.79</td>\n",
       "      <td>162.80</td>\n",
       "      <td>163.57</td>\n",
       "      <td>161.53</td>\n",
       "      <td>42721026</td>\n",
       "    </tr>\n",
       "  </tbody>\n",
       "</table>\n",
       "</div>"
      ],
      "text/plain": [
       "        date                                               text    Open  \\\n",
       "0 2010-01-02  [[газпром, исключать, 2010, выпуск, облигация,...  184.74   \n",
       "1 2010-01-19  [[газпром, готовый, забирать, весь, объесть, а...  190.10   \n",
       "2 2010-01-28  [[консорциум, глава, российский, оао, газпром,...  183.75   \n",
       "3 2010-02-07  [[газпромбанк, открыть, кипр, дочерний, компан...  144.80   \n",
       "4 2010-02-09  [[газпром, вновь, понизить, прогноз, экспорт, ...  161.79   \n",
       "\n",
       "   ClosingPrice  DailyHigh  DailyLow  VolumePcs  \n",
       "0        189.85     190.40    183.50   76298175  \n",
       "1        189.76     190.47    187.36   48626727  \n",
       "2        182.30     185.98    181.67   62561241  \n",
       "3        148.25     148.27    144.05   41766629  \n",
       "4        162.80     163.57    161.53   42721026  "
      ]
     },
     "execution_count": 9,
     "metadata": {},
     "output_type": "execute_result"
    }
   ],
   "source": [
    "all_info = lemmatize_in_df(tokenize_in_df(merge_dataframes(*clean_data(*load_data()))))\n",
    "all_info.head()"
   ]
  },
  {
   "cell_type": "code",
   "execution_count": 10,
   "metadata": {},
   "outputs": [
    {
     "data": {
      "image/png": "[encoded data removed]",
      "text/plain": [
       "<matplotlib.figure.Figure at 0x7f3c1bad6dd8>"
      ]
     },
     "metadata": {},
     "output_type": "display_data"
    }
   ],
   "source": [
    "# Корреляции между средней длиной новостей и ценой закрытия нет\n",
    "len_news = []\n",
    "for lst_news in all_info['text']:\n",
    "    len_mean = []\n",
    "    for news in lst_news:\n",
    "        len_mean.append(len(news))\n",
    "    len_news.append(np.mean(len_mean))\n",
    "    \n",
    "plt.scatter(y=all_info['ClosingPrice'], x=len_news)\n",
    "plt.xlabel('Средняя длина новостей')\n",
    "plt.ylabel('Цена закрытия');"
   ]
  },
  {
   "cell_type": "code",
   "execution_count": 11,
   "metadata": {},
   "outputs": [
    {
     "data": {
      "text/plain": [
       "Text(0,0.5,'Количество упоминаний Алексея Миллера')"
      ]
     },
     "execution_count": 11,
     "metadata": {},
     "output_type": "execute_result"
    },
    {
     "data": {
      "image/png": "[encoded data removed]",
      "text/plain": [
       "<matplotlib.figure.Figure at 0x7f3c1baee780>"
      ]
     },
     "metadata": {},
     "output_type": "display_data"
    }
   ],
   "source": [
    "# Можно заметить, что корреляции между упоминаниями Алексея Миллера и ценой закрытия нет\n",
    "miller_count = []\n",
    "alexey_count = []\n",
    "for lst_news in all_info['text']:\n",
    "    miller_one_text = 0\n",
    "    alexey_one_text = 0\n",
    "    for news in lst_news:\n",
    "        miller_one_text += news.count('миллер') \n",
    "        alexey_one_text += news.count('алексей')\n",
    "    miller_count.append(miller_one_text)\n",
    "    alexey_count.append(alexey_one_text)\n",
    "\n",
    "plt.scatter(all_info['ClosingPrice'], alexey_count, c='blue')\n",
    "plt.scatter(all_info['ClosingPrice'], miller_count, c='red')\n",
    "\n",
    "plt.xlabel('Цена закрытия')\n",
    "plt.ylabel('Количество упоминаний Алексея Миллера')"
   ]
  },
  {
   "cell_type": "code",
   "execution_count": 12,
   "metadata": {},
   "outputs": [
    {
     "name": "stdout",
     "output_type": "stream",
     "text": [
      "[('Турецкий поток', 34), ('Северный поток', 12)]\n"
     ]
    }
   ],
   "source": [
    "# Видим, что турецкий поток упоминается больше\n",
    "sever_turkish = {'Северный поток': 0, 'Турецкий поток': 0}\n",
    "for lst_news in all_info['text']:\n",
    "    for news in lst_news:\n",
    "        bigrams = list(nltk.bigrams(news))\n",
    "        if ('северный', 'поток') in bigrams:\n",
    "            sever_turkish['Северный поток'] += 1\n",
    "        if ('турецкий', 'поток') in bigrams:\n",
    "            sever_turkish['Турецкий поток'] += 1\n",
    "print(sorted(sever_turkish.items(), reverse=True, key=lambda x: x[1]))"
   ]
  },
  {
   "cell_type": "code",
   "execution_count": 13,
   "metadata": {},
   "outputs": [
    {
     "name": "stdout",
     "output_type": "stream",
     "text": [
      "[('Миллер', 147), ('Путин', 71)]\n"
     ]
    }
   ],
   "source": [
    "# Видим, что Миллер упоминается чаще\n",
    "miller_putin = {'Миллер': 0, 'Путин': 0}\n",
    "for lst_news in all_info['text']:\n",
    "    for news in lst_news:\n",
    "        miller_putin['Миллер'] += news.count('миллер') \n",
    "        miller_putin['Путин'] += news.count('путин')    \n",
    "print(sorted(miller_putin.items(), reverse=True, key=lambda x: x[1]))"
   ]
  },
  {
   "cell_type": "code",
   "execution_count": 16,
   "metadata": {},
   "outputs": [
    {
     "name": "stdout",
     "output_type": "stream",
     "text": [
      "Характеристика упоминающихся в новостях санкций:\n",
      "\n",
      "финансовый американский репутационный персональный штрафной экономический который готовый технологический секторальный антироссийский очередной международный несогласованный западный\n"
     ]
    }
   ],
   "source": [
    "morph = MorphAnalyzer()\n",
    "sanctions = set()\n",
    "for lst_news in all_info['text']:\n",
    "    for news in lst_news:\n",
    "        bigrams = list(nltk.bigrams(news))\n",
    "        for bg in bigrams:\n",
    "            if 'санкция' in bg[0]:\n",
    "                p = morph.parse(bg[1])[0]        \n",
    "                if (p.tag.POS) == 'ADJF' or (p.tag.POS) == 'ADJS': #(p.tag.POS) == 'NOUN'\n",
    "                    sanctions.add(bg[1])\n",
    "            if 'санкция' in bg[1]:\n",
    "                p = morph.parse(bg[0])[0]\n",
    "                if (p.tag.POS) == 'ADJF' or (p.tag.POS) == 'ADJS':# or (p.tag.POS) == 'NOUN':\n",
    "                    sanctions.add(bg[0])\n",
    "print ('Характеристика упоминающихся в новостях санкций:\\n')\n",
    "print(*sanctions)"
   ]
  },
  {
   "cell_type": "markdown",
   "metadata": {},
   "source": [
    "## Часть 2. Классификационная [3 балла]\n",
    "Вам предстоит решить следующую задачу: по текстам новостей за день определить, вырастет или понизится цена закрытия.\n",
    "Для этого:\n",
    "* бинаризуйте признак \"цена закрытия\":  новый признак ClosingPrice_bin равен 1, если по сравнению со вчера цена не упала, и 0 – в обратном случаея;\n",
    "* составьте бучающее и тестовое множество: данные до начала 2016 года используются для обучения, данные с 2016 года и позже – для тестирования.\n",
    "\n",
    "Таким образом, в каждлый момент времени мы знаем: \n",
    "* ClosingPrice_bin – бинарый целевой признак\n",
    "* слова из статей, опубликованных в этот день – объясняющие признаки\n",
    "\n",
    "В этой части задания вам нужно сделать baseline алгоритм и попытаться его улучшить в следующей части. \n",
    "\n",
    "Используйте любой известный вам алгоритм классификации текстов для того, Используйте $tf-idf$ преобразование, сингулярное разложение, нормировку признакого пространства и любые другие техники обработки данных, которые вы считаете нужным. Используйте accuracy и F-measure для оценки качества классификации. Покажите, как  $tf-idf$ преобразование или сингулярное разложение или любая другая использованная вами техника влияет на качество классификации.\n",
    "Если у выбранного вами алгоритма есть гиперпараметры (например, $\\alpha$ в преобразовании Лапласа для метода наивного Байеса), покажите, как изменение гиперпараметра влияет на качество классификации."
   ]
  },
  {
   "cell_type": "code",
   "execution_count": 68,
   "metadata": {},
   "outputs": [],
   "source": [
    "# Подготовим данные для 2 задания: преобразуем тексты и введем целевой признак\n",
    "@timeit\n",
    "def prepeare_data(info: pd.DataFrame) -> pd.DataFrame:\n",
    "#     info = lemmatize_in_df(tokenize_in_df(info))\n",
    "    info['text'] = info['text'].apply(lambda news: ' '.join([' '.join(article) for article in news]))\n",
    "    info['ClosingPrice_bin'] = pd.Series(data=[0]+[(1 if info['ClosingPrice'][i]>=info['ClosingPrice'][i-1] else 0)\\\n",
    "                                                   for i in np.arange(1, info.shape[0])])\n",
    "    \n",
    "    return info\n",
    "\n",
    "# Разделим выборку на тренировочную и тестовую\n",
    "@timeit\n",
    "def get_train_test(info: pd.DataFrame) -> (pd.Series, pd.Series, pd.Series, pd.Series):\n",
    "    train = info[info['date'].dt.year < 2016]\n",
    "    test = info[info['date'].dt.year >= 2016]\n",
    "    \n",
    "    texts_train = train['text']\n",
    "    y_train = train['ClosingPrice_bin']\n",
    "\n",
    "    texts_test = test['text']\n",
    "    y_test = test['ClosingPrice_bin']\n",
    "    \n",
    "    return texts_train, texts_test, y_train, y_test"
   ]
  },
  {
   "cell_type": "code",
   "execution_count": 69,
   "metadata": {},
   "outputs": [
    {
     "name": "stdout",
     "output_type": "stream",
     "text": [
      "Function load_data time: 28.5 ms\n",
      "Function clean_data time: 538.4 ms\n",
      "Function merge_dataframes time: 4.3 ms\n",
      "Function tokenize_in_df time: 1989.8 ms\n",
      "Function lemmatize_in_df time: 18344.4 ms\n",
      "Function prepeare_data time: 39.4 ms\n",
      "Function get_train_test time: 2.8 ms\n"
     ]
    }
   ],
   "source": [
    "texts_train, texts_test, y_train, y_test = get_train_test(prepeare_data(lemmatize_in_df(tokenize_in_df(merge_dataframes(*clean_data(*load_data()))))))"
   ]
  },
  {
   "cell_type": "code",
   "execution_count": 70,
   "metadata": {},
   "outputs": [
    {
     "name": "stdout",
     "output_type": "stream",
     "text": [
      "Distribution of target:\n"
     ]
    },
    {
     "data": {
      "text/plain": [
       "0    0.523862\n",
       "1    0.476138\n",
       "Name: ClosingPrice_bin, dtype: float64"
      ]
     },
     "execution_count": 70,
     "metadata": {},
     "output_type": "execute_result"
    },
    {
     "data": {
      "image/png": "[encoded data removed]",
      "text/plain": [
       "<matplotlib.figure.Figure at 0x7f3c1ae6d4e0>"
      ]
     },
     "metadata": {},
     "output_type": "display_data"
    }
   ],
   "source": [
    "# Посмотрим на распределение классов в тренировочной\n",
    "%matplotlib inline\n",
    "ax = y_train.hist(color='red')\n",
    "\n",
    "print('Distribution of target:')\n",
    "y_train.value_counts() / y_train.shape[0]"
   ]
  },
  {
   "cell_type": "code",
   "execution_count": 71,
   "metadata": {},
   "outputs": [
    {
     "name": "stdout",
     "output_type": "stream",
     "text": [
      "Distribution of target:\n"
     ]
    },
    {
     "data": {
      "text/plain": [
       "0    0.569767\n",
       "1    0.430233\n",
       "Name: ClosingPrice_bin, dtype: float64"
      ]
     },
     "execution_count": 71,
     "metadata": {},
     "output_type": "execute_result"
    },
    {
     "data": {
      "image/png": "[encoded data removed]",
      "text/plain": [
       "<matplotlib.figure.Figure at 0x7f3c1a5f3a58>"
      ]
     },
     "metadata": {},
     "output_type": "display_data"
    }
   ],
   "source": [
    "# И в тестовой выборке\n",
    "ax = y_test.hist(color='red')\n",
    "\n",
    "print('Distribution of target:')\n",
    "y_test.value_counts() / y_test.shape[0]"
   ]
  },
  {
   "cell_type": "code",
   "execution_count": 93,
   "metadata": {},
   "outputs": [],
   "source": [
    "@timeit\n",
    "def vectorize(vectorizer, X_train, X_test, vectorizer_params=None):\n",
    "    vectorizer = (vectorizer(**vectorizer_params) if vectorizer_params else vectorizer())\n",
    "    vectorizer.fit(X_train)\n",
    "    X_train = vectorizer.transform(X_train)\n",
    "    X_test = vectorizer.transform(X_test)\n",
    "    \n",
    "    return X_train, X_test\n",
    "\n",
    "@timeit\n",
    "def get_prediction(classifier, X_train, X_test, y_train, vectorizer_params=None, classifier_params=None):\n",
    "    try:\n",
    "        classifier = (classifier(**classifier_params) if classifier_params else classifier())\n",
    "        classifier.fit(X_train, y_train)\n",
    "    except:\n",
    "        classifier.fit(X_train, y_train)\n",
    "    \n",
    "    return classifier.predict(X_test)\n",
    "\n",
    "@timeit\n",
    "def get_score(y_true, y_predicted):\n",
    "    return accuracy_score(y_true, y_predicted), f1_score(y_true, y_predicted)\n"
   ]
  },
  {
   "cell_type": "code",
   "execution_count": 47,
   "metadata": {},
   "outputs": [
    {
     "name": "stdout",
     "output_type": "stream",
     "text": [
      "Function vectorize time: 190.2 ms\n",
      "Function get_prediction time: 34.1 ms\n",
      "Function get_score time: 1.3 ms\n"
     ]
    }
   ],
   "source": [
    "# Попробуем с Bag-of-word\n",
    "accuracy_bow, f1_score_bow = get_score(y_test, get_prediction(LogisticRegression, \n",
    "                                                              *vectorize(CountVectorizer, texts_train, texts_test), y_train))"
   ]
  },
  {
   "cell_type": "code",
   "execution_count": 48,
   "metadata": {},
   "outputs": [
    {
     "name": "stdout",
     "output_type": "stream",
     "text": [
      "Function vectorize time: 196.2 ms\n",
      "Function get_prediction time: 5.8 ms\n",
      "Function get_score time: 1.2 ms\n"
     ]
    }
   ],
   "source": [
    "# И с Tfidf\n",
    "accuracy_tfidf, f1_score_tfidf = get_score(y_test, get_prediction(LogisticRegression,\n",
    "                                                                 *vectorize(TfidfVectorizer, texts_train, texts_test), y_train))"
   ]
  },
  {
   "cell_type": "code",
   "execution_count": 49,
   "metadata": {},
   "outputs": [
    {
     "name": "stdout",
     "output_type": "stream",
     "text": [
      "With Bag-Of-Words:\n",
      "\tAccuracy: 0.488372093023\n",
      "\tF-measure: 0.388888888889\n",
      "With Tfidf:\n",
      "\tAccuracy: 0.527131782946\n",
      "\tF-measure: 0.336956521739\n"
     ]
    }
   ],
   "source": [
    "print('With Bag-Of-Words:')\n",
    "print('\\tAccuracy:', accuracy_bow)\n",
    "print('\\tF-measure:', f1_score_bow)\n",
    "\n",
    "print('With Tfidf:')\n",
    "print('\\tAccuracy:', accuracy_tfidf)\n",
    "print('\\tF-measure:', f1_score_tfidf)"
   ]
  },
  {
   "cell_type": "markdown",
   "metadata": {},
   "source": [
    "Мы видим, что tfidf преобразование дает небольшой прирост к качеству классификации. Но все равно остается на уровне рандома. Попробуем подобрать гиперпараметры классификатора"
   ]
  },
  {
   "cell_type": "code",
   "execution_count": 53,
   "metadata": {},
   "outputs": [
    {
     "name": "stdout",
     "output_type": "stream",
     "text": [
      "Function vectorize time: 190.3 ms\n"
     ]
    }
   ],
   "source": [
    "X_train_vect, X_test_vect = vectorize(TfidfVectorizer, texts_train, texts_test)\n",
    "\n",
    "params = {'C': [x for x in np.linspace(0.01, 10, num=1000)],\n",
    "          'penalty': ['l1', 'l2']}\n",
    "\n",
    "classifier = LogisticRegression()"
   ]
  },
  {
   "cell_type": "code",
   "execution_count": 55,
   "metadata": {},
   "outputs": [
    {
     "name": "stdout",
     "output_type": "stream",
     "text": [
      "CPU times: user 33 µs, sys: 2 µs, total: 35 µs\n",
      "Wall time: 37 µs\n"
     ]
    }
   ],
   "source": [
    "%%time\n",
    "cv = GridSearchCV(estimator=classifier, param_grid=params, scoring=make_scorer(accuracy_score, greater_is_better=False), \n",
    "                  n_jobs=-1)"
   ]
  },
  {
   "cell_type": "code",
   "execution_count": 56,
   "metadata": {},
   "outputs": [
    {
     "name": "stdout",
     "output_type": "stream",
     "text": [
      "CPU times: user 4.74 s, sys: 92 ms, total: 4.83 s\n",
      "Wall time: 40.4 s\n"
     ]
    }
   ],
   "source": [
    "%%time\n",
    "cv.fit(X_train_vect, y_train)\n",
    "y_predicted_best = cv.predict(X_test_vect)"
   ]
  },
  {
   "cell_type": "code",
   "execution_count": 57,
   "metadata": {},
   "outputs": [
    {
     "name": "stdout",
     "output_type": "stream",
     "text": [
      "Best score:\n",
      "Function get_score time: 1.6 ms\n",
      "\tAccuracy: 0.573643410853\n",
      "Function get_score time: 1.6 ms\n",
      "\tF1-measure: 0.051724137931\n",
      "Best estimator:\n",
      "LogisticRegression(C=0.75, class_weight=None, dual=False, fit_intercept=True,\n",
      "          intercept_scaling=1, max_iter=100, multi_class='ovr', n_jobs=1,\n",
      "          penalty='l1', random_state=None, solver='liblinear', tol=0.0001,\n",
      "          verbose=0, warm_start=False)\n"
     ]
    }
   ],
   "source": [
    "print('Best score:')\n",
    "print('\\tAccuracy:', get_score(y_test, y_predicted_best)[0])\n",
    "print('\\tF1-measure:', get_score(y_test, y_predicted_best)[1])\n",
    "print('Best estimator:')\n",
    "print(cv.best_estimator_)"
   ]
  },
  {
   "cell_type": "markdown",
   "metadata": {},
   "source": [
    "Подбор гиперпараметров дал прирост к качеству. Данные значения можно взять за бейслайн. Или \"гразный хак\":"
   ]
  },
  {
   "cell_type": "code",
   "execution_count": 58,
   "metadata": {},
   "outputs": [
    {
     "name": "stdout",
     "output_type": "stream",
     "text": [
      "Score:\n",
      "\tAccuracy: 0.56976744186\n",
      "\tF1-measure: 0.0\n"
     ]
    },
    {
     "name": "stderr",
     "output_type": "stream",
     "text": [
      "/home/kirill/Machine_Learning/ML_venv/lib/python3.6/site-packages/sklearn/metrics/classification.py:1135: UndefinedMetricWarning: F-score is ill-defined and being set to 0.0 due to no predicted samples.\n",
      "  'precision', 'predicted', average, warn_for)\n"
     ]
    }
   ],
   "source": [
    "y_predicted_hack = [0 for _ in range(y_test.shape[0])]\n",
    "print('Score:')\n",
    "print('\\tAccuracy:', accuracy_score(y_test, y_predicted_hack))\n",
    "print('\\tF1-measure:', f1_score(y_test, y_predicted_hack))"
   ]
  },
  {
   "cell_type": "markdown",
   "metadata": {},
   "source": [
    "Можно увидеть, что подбор параметров и векторизация дали очень малый прирост по сравнению с простым заполнением ответов нулями"
   ]
  },
  {
   "cell_type": "markdown",
   "metadata": {},
   "source": [
    "## Часть 3. Творческая [4 балла]\n",
    "Придумайте и попытайтесь сделать еще что-нибудь, чтобы улучшить качество классификации. \n",
    "Направления развития:\n",
    "* Морфологический признаки: \n",
    "    * использовать в качестве признаков только существительные или только именованные сущности;\n",
    "* Модели скрытых тем:\n",
    "    * использовать в качестве признаков скрытые темы;\n",
    "    * использовать в качестве признаков динамические скрытые темы \n",
    "    пример тут: (https://github.com/RaRe-Technologies/gensim/blob/develop/docs/notebooks/dtm_example.ipynb)\n",
    "* Синтаксические признаки:\n",
    "    * использовать SOV-тройки в качестве признаков\n",
    "    * кластеризовать SOV-тройки по усредненным эмбеддингам  (обученные word2vec модели можно скачать отсюда: (http://rusvectores.org/ru/models/ или https://github.com/facebookresearch/fastText/blob/master/pretrained-vectors.md) и использовать только центроиды кластеров в качестве признаков\n",
    "* что-нибудь еще     "
   ]
  },
  {
   "cell_type": "code",
   "execution_count": 100,
   "metadata": {},
   "outputs": [],
   "source": [
    "def get_nouns(word_list):\n",
    "    morph = MorphAnalyzer()\n",
    "    \n",
    "    return [word for word in word_list if morph.parse(word)[0].tag.POS == 'NOUN']\n",
    "\n",
    "@timeit\n",
    "def get_nouns_in_df(info):\n",
    "    info['text'] = all_info['text'].apply(lambda news_list: [get_nouns(word_list) for word_list in news_list])\n",
    "    \n",
    "    return info"
   ]
  },
  {
   "cell_type": "code",
   "execution_count": 101,
   "metadata": {},
   "outputs": [
    {
     "name": "stdout",
     "output_type": "stream",
     "text": [
      "Function load_data time: 29.9 ms\n",
      "Function clean_data time: 512.8 ms\n",
      "Function merge_dataframes time: 4.3 ms\n",
      "Function tokenize_in_df time: 1930.2 ms\n",
      "Function lemmatize_in_df time: 18100.7 ms\n"
     ]
    }
   ],
   "source": [
    "info = lemmatize_in_df(tokenize_in_df(merge_dataframes(*clean_data(*load_data()))))"
   ]
  },
  {
   "cell_type": "code",
   "execution_count": 102,
   "metadata": {},
   "outputs": [
    {
     "name": "stdout",
     "output_type": "stream",
     "text": [
      "Function get_nouns_in_df time: 134402.1 ms\n"
     ]
    }
   ],
   "source": [
    "info = get_nouns_in_df(info)"
   ]
  },
  {
   "cell_type": "code",
   "execution_count": 103,
   "metadata": {},
   "outputs": [
    {
     "data": {
      "text/html": [
       "<div>\n",
       "<style scoped>\n",
       "    .dataframe tbody tr th:only-of-type {\n",
       "        vertical-align: middle;\n",
       "    }\n",
       "\n",
       "    .dataframe tbody tr th {\n",
       "        vertical-align: top;\n",
       "    }\n",
       "\n",
       "    .dataframe thead th {\n",
       "        text-align: right;\n",
       "    }\n",
       "</style>\n",
       "<table border=\"1\" class=\"dataframe\">\n",
       "  <thead>\n",
       "    <tr style=\"text-align: right;\">\n",
       "      <th></th>\n",
       "      <th>date</th>\n",
       "      <th>text</th>\n",
       "      <th>Open</th>\n",
       "      <th>ClosingPrice</th>\n",
       "      <th>DailyHigh</th>\n",
       "      <th>DailyLow</th>\n",
       "      <th>VolumePcs</th>\n",
       "    </tr>\n",
       "  </thead>\n",
       "  <tbody>\n",
       "    <tr>\n",
       "      <th>0</th>\n",
       "      <td>2010-01-02</td>\n",
       "      <td>[[газпром, выпуск, облигация, половина, объём,...</td>\n",
       "      <td>184.74</td>\n",
       "      <td>189.85</td>\n",
       "      <td>190.40</td>\n",
       "      <td>183.50</td>\n",
       "      <td>76298175</td>\n",
       "    </tr>\n",
       "    <tr>\n",
       "      <th>1</th>\n",
       "      <td>2010-01-19</td>\n",
       "      <td>[[газпром, газа, баку, вторник, глава, газпром...</td>\n",
       "      <td>190.10</td>\n",
       "      <td>189.76</td>\n",
       "      <td>190.47</td>\n",
       "      <td>187.36</td>\n",
       "      <td>48626727</td>\n",
       "    </tr>\n",
       "    <tr>\n",
       "      <th>2</th>\n",
       "      <td>2010-01-28</td>\n",
       "      <td>[[консорциум, глава, оао, газпром, нефть, четв...</td>\n",
       "      <td>183.75</td>\n",
       "      <td>182.30</td>\n",
       "      <td>185.98</td>\n",
       "      <td>181.67</td>\n",
       "      <td>62561241</td>\n",
       "    </tr>\n",
       "    <tr>\n",
       "      <th>3</th>\n",
       "      <td>2010-02-07</td>\n",
       "      <td>[[газпромбанк, кипр, компания, компания, деяте...</td>\n",
       "      <td>144.80</td>\n",
       "      <td>148.25</td>\n",
       "      <td>148.27</td>\n",
       "      <td>144.05</td>\n",
       "      <td>41766629</td>\n",
       "    </tr>\n",
       "    <tr>\n",
       "      <th>4</th>\n",
       "      <td>2010-02-09</td>\n",
       "      <td>[[газпром, прогноз, экспорт, европа, уровень, ...</td>\n",
       "      <td>161.79</td>\n",
       "      <td>162.80</td>\n",
       "      <td>163.57</td>\n",
       "      <td>161.53</td>\n",
       "      <td>42721026</td>\n",
       "    </tr>\n",
       "  </tbody>\n",
       "</table>\n",
       "</div>"
      ],
      "text/plain": [
       "        date                                               text    Open  \\\n",
       "0 2010-01-02  [[газпром, выпуск, облигация, половина, объём,...  184.74   \n",
       "1 2010-01-19  [[газпром, газа, баку, вторник, глава, газпром...  190.10   \n",
       "2 2010-01-28  [[консорциум, глава, оао, газпром, нефть, четв...  183.75   \n",
       "3 2010-02-07  [[газпромбанк, кипр, компания, компания, деяте...  144.80   \n",
       "4 2010-02-09  [[газпром, прогноз, экспорт, европа, уровень, ...  161.79   \n",
       "\n",
       "   ClosingPrice  DailyHigh  DailyLow  VolumePcs  \n",
       "0        189.85     190.40    183.50   76298175  \n",
       "1        189.76     190.47    187.36   48626727  \n",
       "2        182.30     185.98    181.67   62561241  \n",
       "3        148.25     148.27    144.05   41766629  \n",
       "4        162.80     163.57    161.53   42721026  "
      ]
     },
     "execution_count": 103,
     "metadata": {},
     "output_type": "execute_result"
    }
   ],
   "source": [
    "info.head()"
   ]
  },
  {
   "cell_type": "code",
   "execution_count": 104,
   "metadata": {},
   "outputs": [
    {
     "name": "stdout",
     "output_type": "stream",
     "text": [
      "Function prepeare_data time: 45.3 ms\n",
      "Function get_train_test time: 3.1 ms\n"
     ]
    }
   ],
   "source": [
    "X_train, X_test, y_train, y_test = get_train_test(prepeare_data(info))"
   ]
  },
  {
   "cell_type": "code",
   "execution_count": 105,
   "metadata": {},
   "outputs": [
    {
     "name": "stdout",
     "output_type": "stream",
     "text": [
      "Function vectorize time: 488.9 ms\n",
      "Function get_prediction time: 28.0 ms\n"
     ]
    }
   ],
   "source": [
    "# Попробуем обучиться только на существительных\n",
    "\n",
    "X_train_vect, X_test_vect = vectorize(TfidfVectorizer, X_train, X_test, {'ngram_range':(1, 3)})\n",
    "y_predicted = get_prediction(LogisticRegression(), X_train_vect, X_test_vect, y_train)"
   ]
  },
  {
   "cell_type": "code",
   "execution_count": 106,
   "metadata": {},
   "outputs": [
    {
     "name": "stdout",
     "output_type": "stream",
     "text": [
      "Function get_score time: 2.0 ms\n",
      "Accuracy: 0.546511627907\n",
      "Function get_score time: 1.8 ms\n",
      "F1-score: 0.299401197605\n"
     ]
    }
   ],
   "source": [
    "print('Accuracy:', get_score(y_test, y_predicted)[0])\n",
    "print('F1-score:', get_score(y_test, y_predicted)[1])"
   ]
  },
  {
   "cell_type": "markdown",
   "metadata": {},
   "source": [
    "Можно увидеть, что при обучении только на существительных качество пресказания упало<br>\n",
    "Таким образом наилучший пайплайн: Tfidf-векторизация + логистическая регрессия"
   ]
  },
  {
   "cell_type": "markdown",
   "metadata": {},
   "source": [
    "## Сдача домашнего задания\n",
    "\n",
    "Дедлайн сдачи домашнего задания:  23:59 22.03.2018. Каждый день просрочки дедлайна штрафуется -1 баллом.\n",
    "\n",
    "Результаты домашнего задания должны быть оформлены в виде отчета в jupyter notebook.\n",
    "Нормальный отчёт должен включать в себя:\n",
    "* Краткую постановку задачи и формулировку задания\n",
    "* Описание минимума необходимой теории и/или описание используемых инструментов \n",
    "* Подробный пошаговый рассказ о проделанной работе\n",
    "* **Аккуратно** оформленные результаты\n",
    "* Подробные и внятные ответы на все заданные вопросы \n",
    "* Внятные выводы – не стоит относится к домашнему заданию как к последовательности сугубо технических шагов, а стоит относится скорее как к небольшому практическому исследованию, у которого есть своя цель и свое назначение.\n",
    "\n",
    "Задание выполняется в группе до трех человек. Не забудьте перечислить фамилии всех, кто работал над домашнем задании, в jupyter notebook.  \n",
    "\n",
    "В случае использования какого-либо строннего источника информации обязательно дайте на него ссылку (поскольку другие тоже могут на него наткнуться). Плагиат наказывается нулём баллов за задание и предвзятым отношением в будущем.\n",
    "\n",
    "\n",
    "При возникновении проблем с выполнением задания обращайтесь с вопросами к преподавателю по семинарским занятиям в вашей группе или у учебным ассистентам.\n",
    "\n",
    "Учебный ассистент по ДЗ 2: Таисия Глушкова (email: glushkovato@gmail.com, telegram: @glushkovato).\n",
    "\n",
    "\n",
    "Небрежное оформление отчета существенно отразится на итоговой оценке. Весь код из отчёта должен быть воспроизводимым, если для этого нужны какие-то дополнительные действия, установленные модули и т.п. — всё это должно быть прописано в отчете в явном виде.\n",
    "\n",
    "Сдача отчетов осуществляется через систему AnyTask.\n",
    "\n"
   ]
  }
 ],
 "metadata": {
  "kernelspec": {
   "display_name": "Python 3",
   "language": "python",
   "name": "python3"
  },
  "language_info": {
   "codemirror_mode": {
    "name": "ipython",
    "version": 3
   },
   "file_extension": ".py",
   "mimetype": "text/x-python",
   "name": "python",
   "nbconvert_exporter": "python",
   "pygments_lexer": "ipython3",
   "version": "3.6.3"
  }
 },
 "nbformat": 4,
 "nbformat_minor": 2
}
